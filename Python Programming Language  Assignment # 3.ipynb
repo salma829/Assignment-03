{
 "cells": [
  {
   "cell_type": "code",
   "execution_count": 1,
   "id": "f3477ab9",
   "metadata": {},
   "outputs": [
    {
     "name": "stdout",
     "output_type": "stream",
     "text": [
      "Twinkle, twinkle, little star,\n",
      "\tHow I wonder what you are!\n",
      "\t\tUp above the world so high,\n",
      "\t\tLike a diamond in the sky.\n",
      "Twinkle, twinkle, little star,\n",
      "\tHow I wonder what you are\n"
     ]
    }
   ],
   "source": [
    "#Write a Python program to print the following string in a specific format (see the\n",
    "#output).\n",
    "\n",
    "#Twinkle, twinkle, little star,\n",
    "#How I wonder what you are!\n",
    "#Up above the world so high,\n",
    "#Like a diamond in the sky.\n",
    "\n",
    "#Twinkle, twinkle, little star,\n",
    "#How I wonder what you are\n",
    "\n",
    "print(\"Twinkle, twinkle, little star,\\n\\tHow I wonder what you are!\\n\\t\\tUp above the world so high,\\n\\t\\tLike a diamond in the sky.\\nTwinkle, twinkle, little star,\\n\\tHow I wonder what you are\")"
   ]
  },
  {
   "cell_type": "code",
   "execution_count": 2,
   "id": "aa410a35",
   "metadata": {},
   "outputs": [
    {
     "name": "stdout",
     "output_type": "stream",
     "text": [
      "Python_Version is : 3.8.8\n"
     ]
    }
   ],
   "source": [
    "#Write a Python program to get the Python version you are using\n",
    "\n",
    "from platform import python_version\n",
    "\n",
    "print(\"Python_Version is :\", python_version())"
   ]
  },
  {
   "cell_type": "code",
   "execution_count": 3,
   "id": "edf76885",
   "metadata": {},
   "outputs": [
    {
     "name": "stdout",
     "output_type": "stream",
     "text": [
      "Current date and time is : 2021-10-24 02:43:25\n"
     ]
    }
   ],
   "source": [
    "#Write a Python program to display the current date and time.\n",
    "\n",
    "import datetime\n",
    "now = datetime.datetime.now()\n",
    "print (\"Current date and time is :\" ,now.strftime(\"%Y-%m-%d %H:%M:%S\"))"
   ]
  },
  {
   "cell_type": "code",
   "execution_count": 4,
   "id": "24ed9b15",
   "metadata": {},
   "outputs": [
    {
     "name": "stdout",
     "output_type": "stream",
     "text": [
      "Enter the value of Radius of a circle12\n",
      "Area of a Circle is : 452.16\n"
     ]
    }
   ],
   "source": [
    "#Write a Python program which accepts the radius of a circle from the user and compute the area.\n",
    "\n",
    "Radius = int(input(\"Enter the value of Radius of a circle\"))\n",
    "Area = 3.14*(Radius)**2\n",
    "print(\"Area of a Circle is :\" , Area)"
   ]
  },
  {
   "cell_type": "code",
   "execution_count": 5,
   "id": "e7738ca8",
   "metadata": {},
   "outputs": [
    {
     "name": "stdout",
     "output_type": "stream",
     "text": [
      "Enter First Name Salma\n",
      "Enter Last Name Ghafoor\n",
      "Ghafoor Salma\n"
     ]
    }
   ],
   "source": [
    "#Write a Python program which accepts the user's first and last name and print them in\n",
    "#reverse order with a space between them.\n",
    "\n",
    "Name_first = input(\"Enter First Name \")\n",
    "Name_second = input(\"Enter Last Name \")\n",
    "print(Name_second , Name_first)"
   ]
  },
  {
   "cell_type": "code",
   "execution_count": 6,
   "id": "d02de64a",
   "metadata": {},
   "outputs": [
    {
     "name": "stdout",
     "output_type": "stream",
     "text": [
      "Enter first Value12\n",
      "Enter Second Value13\n",
      "Sum is :  25\n"
     ]
    }
   ],
   "source": [
    "#Write a python program which takes two inputs from user and print them addition\n",
    "\n",
    "first_Number = int(input(\"Enter first Value\"))\n",
    "second_Number = int(input(\"Enter Second Value\"))\n",
    "Sum= first_Number + second_Number\n",
    "print(\"Sum is : \", Sum)"
   ]
  },
  {
   "cell_type": "code",
   "execution_count": 7,
   "id": "7748bf8a",
   "metadata": {},
   "outputs": [
    {
     "name": "stdout",
     "output_type": "stream",
     "text": [
      "Enter a number: 15\n",
      "This is an odd number.\n"
     ]
    }
   ],
   "source": [
    "# Write a program which take input from user and identify that the given number is even or odd?\n",
    "\n",
    "num = int(input(\"Enter a number: \"))\n",
    "mod = num % 2\n",
    "if mod > 0:\n",
    "    print(\"This is an odd number.\")\n",
    "else:\n",
    "    print(\"This is an even number.\")\n"
   ]
  },
  {
   "cell_type": "code",
   "execution_count": 8,
   "id": "606770ba",
   "metadata": {},
   "outputs": [
    {
     "data": {
      "text/plain": [
       "10"
      ]
     },
     "execution_count": 8,
     "metadata": {},
     "output_type": "execute_result"
    }
   ],
   "source": [
    "#Write a program which print the length of the list?\n",
    "\n",
    "a = [3,6,9,12,15,18,21,24,27,30]\n",
    "len(a)"
   ]
  },
  {
   "cell_type": "code",
   "execution_count": 9,
   "id": "18c1f64d",
   "metadata": {},
   "outputs": [
    {
     "data": {
      "text/plain": [
       "182"
      ]
     },
     "execution_count": 9,
     "metadata": {},
     "output_type": "execute_result"
    }
   ],
   "source": [
    "#Write a Python program to sum all the numeric items in a list?\n",
    "\n",
    "x = [2,4,8,10,12,14,16,18,20,24,26,28]\n",
    "sum(x)"
   ]
  },
  {
   "cell_type": "code",
   "execution_count": 10,
   "id": "08d873ad",
   "metadata": {},
   "outputs": [
    {
     "data": {
      "text/plain": [
       "56"
      ]
     },
     "execution_count": 10,
     "metadata": {},
     "output_type": "execute_result"
    }
   ],
   "source": [
    "#Write a Python program to get the largest number from a numeric list.\n",
    "\n",
    "z = [12,34,56,30,45,23,50]\n",
    "max(z)"
   ]
  },
  {
   "cell_type": "code",
   "execution_count": 11,
   "id": "619a8f82",
   "metadata": {},
   "outputs": [
    {
     "name": "stdout",
     "output_type": "stream",
     "text": [
      "1\n",
      "1\n",
      "2\n",
      "3\n"
     ]
    }
   ],
   "source": [
    "#Take a list, say for example this one:\n",
    "#a = [1, 1, 2, 3, 5, 8, 13, 21, 34, 55, 89]\n",
    "#Write a program that prints out all the elements of the list that are less than 5.\n",
    "\n",
    "\n",
    "a = [1, 1, 2, 3, 5, 8, 13, 21, 34, 55, 89]\n",
    "for numbers in a:\n",
    "    if numbers < 5:\n",
    "        print(numbers)"
   ]
  },
  {
   "cell_type": "code",
   "execution_count": 17,
   "id": "dd59ba64",
   "metadata": {
    "scrolled": true
   },
   "outputs": [
    {
     "name": "stdout",
     "output_type": "stream",
     "text": [
      "Enter Marks of the English: 90\n",
      "Enter Marks of the Urdu: 88\n",
      "Enter Marks of the Islamyat: 92\n",
      "Enter Marks of the Maths: 91\n",
      "Enter Marks of the Science: 89\n",
      "Grade: A+\n",
      "Total Marks is : 500\n",
      "Obtained Marks is : 450\n",
      "Avg is : 90.0\n",
      "Avg is : 90.0 %\n"
     ]
    }
   ],
   "source": [
    "English = int(input(\"Enter Marks of the English: \"))\n",
    "Urdu = int(input(\"Enter Marks of the Urdu: \"))\n",
    "Islamyat = int(input(\"Enter Marks of the Islamyat: \"))\n",
    "Maths = int(input(\"Enter Marks of the Maths: \"))\n",
    "Science = int(input(\"Enter Marks of the Science: \"))\n",
    "\n",
    "Total_Marks = 500\n",
    "Obtained_Marks = English + Urdu + Islamyat + Maths + Science\n",
    "Avg = ( Obtained_Marks / Total_Marks ) * 100\n",
    "\n",
    "if Avg < 100 and Avg >=90:\n",
    "    print(\"Grade: A+\")\n",
    "elif Avg <90 and Avg >=80:\n",
    "    print(\"Grade: B\")\n",
    "elif Avg < 80 and Avg >=70:\n",
    "    print(\"Grade: C\")\n",
    "elif Avg < 70 and Avg >=60:\n",
    "    print(\"Grade: D\")\n",
    "elif Avg < 60 and Avg >=50:\n",
    "    print(\"Grade:E\")\n",
    "    \n",
    "else:\n",
    "    print(\"Grade: F\")\n",
    "    \n",
    "print(\"Total Marks is :\" , Total_Marks)\n",
    "print(\"Obtained Marks is :\" , Obtained_Marks)\n",
    "print(\"Avg is :\" , Avg)\n",
    "print(\"Avg is :\" , Avg , \"%\")    "
   ]
  },
  {
   "cell_type": "code",
   "execution_count": null,
   "id": "2765c469",
   "metadata": {},
   "outputs": [],
   "source": []
  }
 ],
 "metadata": {
  "kernelspec": {
   "display_name": "Python 3",
   "language": "python",
   "name": "python3"
  },
  "language_info": {
   "codemirror_mode": {
    "name": "ipython",
    "version": 3
   },
   "file_extension": ".py",
   "mimetype": "text/x-python",
   "name": "python",
   "nbconvert_exporter": "python",
   "pygments_lexer": "ipython3",
   "version": "3.8.8"
  }
 },
 "nbformat": 4,
 "nbformat_minor": 5
}
